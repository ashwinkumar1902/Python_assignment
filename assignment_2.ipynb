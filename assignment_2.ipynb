{
 "cells": [
  {
   "cell_type": "markdown",
   "id": "9ab7acb3",
   "metadata": {},
   "source": [
    "# Python Assignment - 2\n",
    "### Carries - 30 marks"
   ]
  },
  {
   "cell_type": "markdown",
   "id": "d4122e1a",
   "metadata": {},
   "source": [
    "## What is List? How will you reverse a list?"
   ]
  },
  {
   "cell_type": "markdown",
   "id": "2b80dd44",
   "metadata": {},
   "source": [
    "In computer science, a list is a collection of items that are stored sequentially. Lists are a fundamental data structure in many programming languages, allowing you to store and manipulate a collection of elements. Lists can contain elements of any data type, such as integers, strings, or even other lists."
   ]
  },
  {
   "cell_type": "code",
   "execution_count": 1,
   "id": "e191f956",
   "metadata": {},
   "outputs": [
    {
     "name": "stdout",
     "output_type": "stream",
     "text": [
      "[5, 4, 3, 2, 1]\n"
     ]
    }
   ],
   "source": [
    "my_list = [1, 2, 3, 4, 5]\n",
    "reversed_list = my_list[::-1]\n",
    "print(reversed_list)"
   ]
  },
  {
   "cell_type": "markdown",
   "id": "69255251",
   "metadata": {},
   "source": [
    "# How will you compare two lists?"
   ]
  },
  {
   "cell_type": "code",
   "execution_count": 2,
   "id": "ee751ef2",
   "metadata": {},
   "outputs": [
    {
     "name": "stdout",
     "output_type": "stream",
     "text": [
      "Both lists are equal\n",
      "Both lists are equal\n"
     ]
    }
   ],
   "source": [
    "list1 = [1, 2, 3, 4, 5]\n",
    "list2 = [1, 2, 3, 4, 5]\n",
    "\n",
    "# Method 1: Using the == operator\n",
    "if list1 == list2:\n",
    "    print(\"Both lists are equal\")\n",
    "else:\n",
    "    print(\"Lists are not equal\")\n",
    "\n",
    "# Method 2: Using a loop\n",
    "equal = True\n",
    "for i in range(len(list1)):\n",
    "    if list1[i] != list2[i]:\n",
    "        equal = False\n",
    "        break\n",
    "\n",
    "if equal:\n",
    "    print(\"Both lists are equal\")\n",
    "else:\n",
    "    print(\"Lists are not equal\")\n"
   ]
  },
  {
   "cell_type": "markdown",
   "id": "367150d6",
   "metadata": {},
   "source": [
    "###  How will you remove last object from a list? Suppose list1 is [2, 33, 222, 14, and 25], what is list1 [-1]? "
   ]
  },
  {
   "cell_type": "code",
   "execution_count": 3,
   "id": "9364a001",
   "metadata": {},
   "outputs": [
    {
     "name": "stdout",
     "output_type": "stream",
     "text": [
      "[2, 33, 222, 14]\n"
     ]
    }
   ],
   "source": [
    "list1 = [2, 33, 222, 14, 25]\n",
    "list1 = list1[:-1]  # Removes the last object from the list using slicing\n",
    "print(list1)  # Output: [2, 33, 222, 14]\n"
   ]
  },
  {
   "cell_type": "markdown",
   "id": "9ad2912e",
   "metadata": {},
   "source": [
    "### Differentiate between append () and extend () methods? "
   ]
  },
  {
   "cell_type": "code",
   "execution_count": 4,
   "id": "9f0d5d58",
   "metadata": {},
   "outputs": [
    {
     "name": "stdout",
     "output_type": "stream",
     "text": [
      "[1, 2, 3, 4]\n"
     ]
    }
   ],
   "source": [
    "my_list = [1, 2, 3]\n",
    "my_list.append(4)  # Adds 4 as a single element to the end of the list\n",
    "print(my_list)  # Output: [1, 2, 3, 4]\n"
   ]
  },
  {
   "cell_type": "code",
   "execution_count": 5,
   "id": "a80188c5",
   "metadata": {},
   "outputs": [
    {
     "name": "stdout",
     "output_type": "stream",
     "text": [
      "[1, 2, 3, 4, 5, 6]\n"
     ]
    }
   ],
   "source": [
    "my_list = [1, 2, 3]\n",
    "my_list.extend([4, 5, 6])  # Adds multiple elements to the end of the list\n",
    "print(my_list)  # Output: [1, 2, 3, 4, 5, 6]\n"
   ]
  },
  {
   "cell_type": "markdown",
   "id": "5f8c10ed",
   "metadata": {},
   "source": [
    "### Write a Python program to find the second smallest number in a list."
   ]
  },
  {
   "cell_type": "code",
   "execution_count": 8,
   "id": "79acc6a9",
   "metadata": {},
   "outputs": [
    {
     "name": "stdout",
     "output_type": "stream",
     "text": [
      "Second smallest number in the list is: 6\n"
     ]
    }
   ],
   "source": [
    "def second_smallest(numbers):\n",
    "    if len(numbers) < 2:\n",
    "        return \"List should contain at least two elements\"\n",
    "    \n",
    "    smallest = float('inf')  # Set initial smallest value to positive infinity\n",
    "    second_smallest = float('inf')  # Set initial second smallest value to positive infinity\n",
    "    \n",
    "    for num in numbers:\n",
    "        if num < smallest:\n",
    "            second_smallest = smallest\n",
    "            smallest = num\n",
    "        elif num < second_smallest and num != smallest:\n",
    "            second_smallest = num\n",
    "    \n",
    "    return second_smallest\n",
    "\n",
    "# Example usage\n",
    "my_list = [16, 22, 4, 100, 31, 16, 8, 6]\n",
    "result = second_smallest(my_list)\n",
    "print(\"Second smallest number in the list is:\", result)"
   ]
  },
  {
   "cell_type": "markdown",
   "id": "6ded1b65",
   "metadata": {},
   "source": [
    "### Write a Python program to find the length of a tuple."
   ]
  },
  {
   "cell_type": "code",
   "execution_count": 9,
   "id": "61cfffe0",
   "metadata": {},
   "outputs": [
    {
     "name": "stdout",
     "output_type": "stream",
     "text": [
      "Length of the tuple is: 5\n"
     ]
    }
   ],
   "source": [
    "# Sample tuple\n",
    "my_tuple = (1, 2, 3, 4, 5)\n",
    "\n",
    "# Find the length of the tuple\n",
    "tuple_length = len(my_tuple)\n",
    "\n",
    "# Print the length of the tuple\n",
    "print(\"Length of the tuple is:\", tuple_length)\n"
   ]
  },
  {
   "cell_type": "markdown",
   "id": "86d7bc5d",
   "metadata": {},
   "source": [
    "## Write a Python program to reverse a tuple."
   ]
  },
  {
   "cell_type": "code",
   "execution_count": 10,
   "id": "161ca274",
   "metadata": {},
   "outputs": [
    {
     "name": "stdout",
     "output_type": "stream",
     "text": [
      "Reversed tuple: (5, 4, 3, 2, 1)\n"
     ]
    }
   ],
   "source": [
    "# Sample tuple\n",
    "my_tuple = (1, 2, 3, 4, 5)\n",
    "\n",
    "# Reversing the tuple\n",
    "reversed_tuple = my_tuple[::-1]\n",
    "\n",
    "# Print the reversed tuple\n",
    "print(\"Reversed tuple:\", reversed_tuple)\n"
   ]
  },
  {
   "cell_type": "code",
   "execution_count": null,
   "id": "678ce2c8",
   "metadata": {},
   "outputs": [],
   "source": []
  },
  {
   "cell_type": "markdown",
   "id": "2a982267",
   "metadata": {},
   "source": [
    "### Write a Python program to remove duplicates from a list. "
   ]
  },
  {
   "cell_type": "code",
   "execution_count": 11,
   "id": "94d4beb8",
   "metadata": {},
   "outputs": [
    {
     "name": "stdout",
     "output_type": "stream",
     "text": [
      "List after removing duplicates: [1, 2, 3, 4, 5]\n"
     ]
    }
   ],
   "source": [
    "def remove_duplicates(input_list):\n",
    "    unique_list = []\n",
    "    for item in input_list:\n",
    "        if item not in unique_list:\n",
    "            unique_list.append(item)\n",
    "    return unique_list\n",
    "\n",
    "# Example usage\n",
    "input_list = [1, 2, 2, 3, 4, 4, 5]\n",
    "result_list = remove_duplicates(input_list)\n",
    "print(\"List after removing duplicates:\", result_list)\n"
   ]
  },
  {
   "cell_type": "markdown",
   "id": "2573940b",
   "metadata": {},
   "source": [
    "## Write a Python function that takes a list and returns a new list with unique elements of the first list."
   ]
  },
  {
   "cell_type": "code",
   "execution_count": 12,
   "id": "6c34b94a",
   "metadata": {},
   "outputs": [
    {
     "name": "stdout",
     "output_type": "stream",
     "text": [
      "List with unique elements: [1, 2, 3, 4, 5]\n"
     ]
    }
   ],
   "source": [
    "def unique_elements(input_list):\n",
    "    unique_list = []\n",
    "    for item in input_list:\n",
    "        if item not in unique_list:\n",
    "            unique_list.append(item)\n",
    "    return unique_list\n",
    "\n",
    "# Example usage\n",
    "input_list = [1, 2, 2, 3, 4, 4, 5]\n",
    "result_list = unique_elements(input_list)\n",
    "print(\"List with unique elements:\", result_list)\n"
   ]
  },
  {
   "cell_type": "markdown",
   "id": "569027d9",
   "metadata": {},
   "source": [
    "###  Write a Python program to check a list is empty or not. "
   ]
  },
  {
   "cell_type": "code",
   "execution_count": 13,
   "id": "fd71c169",
   "metadata": {},
   "outputs": [
    {
     "name": "stdout",
     "output_type": "stream",
     "text": [
      "The list is empty.\n",
      "The list is not empty.\n"
     ]
    }
   ],
   "source": [
    "def is_empty(input_list):\n",
    "    if not input_list:\n",
    "        return True\n",
    "    else:\n",
    "        return False\n",
    "\n",
    "# Example usage\n",
    "empty_list = []\n",
    "non_empty_list = [1, 2, 3]\n",
    "\n",
    "if is_empty(empty_list):\n",
    "    print(\"The list is empty.\")\n",
    "else:\n",
    "    print(\"The list is not empty.\")\n",
    "\n",
    "if is_empty(non_empty_list):\n",
    "    print(\"The list is empty.\")\n",
    "else:\n",
    "    print(\"The list is not empty.\")\n"
   ]
  },
  {
   "cell_type": "markdown",
   "id": "c64d9e48",
   "metadata": {},
   "source": [
    "### Write a Python function to get the largest number, smallest num and sum of all from a list. "
   ]
  },
  {
   "cell_type": "code",
   "execution_count": 14,
   "id": "155dd0e4",
   "metadata": {},
   "outputs": [
    {
     "name": "stdout",
     "output_type": "stream",
     "text": [
      "Largest number: 45\n",
      "Smallest number: 2\n",
      "Sum of all numbers: 155\n"
     ]
    }
   ],
   "source": [
    "def get_list_stats(input_list):\n",
    "    if len(input_list) == 0:\n",
    "        return \"List is empty\"\n",
    "    \n",
    "    largest_number = max(input_list)\n",
    "    smallest_number = min(input_list)\n",
    "    total_sum = sum(input_list)\n",
    "    \n",
    "    return largest_number, smallest_number, total_sum\n",
    "\n",
    "# Example usage\n",
    "my_list = [12, 45, 2, 41, 31, 10, 8, 6]\n",
    "largest, smallest, total_sum = get_list_stats(my_list)\n",
    "\n",
    "print(\"Largest number:\", largest)\n",
    "print(\"Smallest number:\", smallest)\n",
    "print(\"Sum of all numbers:\", total_sum)\n"
   ]
  },
  {
   "cell_type": "markdown",
   "id": "80f8354d",
   "metadata": {},
   "source": [
    "### Write a Python program to get unique values from a list "
   ]
  },
  {
   "cell_type": "code",
   "execution_count": 15,
   "id": "c7ab6392",
   "metadata": {},
   "outputs": [
    {
     "name": "stdout",
     "output_type": "stream",
     "text": [
      "Unique values from the list: [1, 2, 3, 4, 5]\n"
     ]
    }
   ],
   "source": [
    "def get_unique_values(input_list):\n",
    "    unique_values = list(set(input_list))\n",
    "    return unique_values\n",
    "\n",
    "# Example usage\n",
    "input_list = [1, 2, 2, 3, 4, 4, 5]\n",
    "unique_values = get_unique_values(input_list)\n",
    "print(\"Unique values from the list:\", unique_values)\n"
   ]
  },
  {
   "cell_type": "markdown",
   "id": "a62c3d8c",
   "metadata": {},
   "source": [
    "### Write a Python program to split a list into different variables."
   ]
  },
  {
   "cell_type": "code",
   "execution_count": 16,
   "id": "25bb05a2",
   "metadata": {},
   "outputs": [
    {
     "name": "stdout",
     "output_type": "stream",
     "text": [
      "var1: 1\n",
      "var2: 2\n",
      "var3: 3\n",
      "var4: 4\n",
      "var5: 5\n"
     ]
    }
   ],
   "source": [
    "# Sample list\n",
    "my_list = [1, 2, 3, 4, 5]\n",
    "\n",
    "# Split the list into variables\n",
    "var1, var2, var3, var4, var5 = my_list\n",
    "\n",
    "# Print the variables\n",
    "print(\"var1:\", var1)\n",
    "print(\"var2:\", var2)\n",
    "print(\"var3:\", var3)\n",
    "print(\"var4:\", var4)\n",
    "print(\"var5:\", var5)\n"
   ]
  },
  {
   "cell_type": "markdown",
   "id": "f85589f9",
   "metadata": {},
   "source": [
    "### Write a Python program to check whether an element exists within a tuple"
   ]
  },
  {
   "cell_type": "code",
   "execution_count": 17,
   "id": "84d3d847",
   "metadata": {},
   "outputs": [
    {
     "name": "stdout",
     "output_type": "stream",
     "text": [
      "The element 3 exists in the tuple.\n"
     ]
    }
   ],
   "source": [
    "# Sample tuple\n",
    "my_tuple = (1, 2, 3, 4, 5)\n",
    "\n",
    "# Element to check\n",
    "element_to_check = 3\n",
    "\n",
    "# Check if the element exists in the tuple\n",
    "if element_to_check in my_tuple:\n",
    "    print(f\"The element {element_to_check} exists in the tuple.\")\n",
    "else:\n",
    "    print(f\"The element {element_to_check} does not exist in the tuple.\")\n"
   ]
  },
  {
   "cell_type": "markdown",
   "id": "f9fdf431",
   "metadata": {},
   "source": [
    "### Write a Python program to convert a list to a tuple. "
   ]
  },
  {
   "cell_type": "code",
   "execution_count": 18,
   "id": "55b39659",
   "metadata": {},
   "outputs": [
    {
     "name": "stdout",
     "output_type": "stream",
     "text": [
      "Tuple: (1, 2, 3, 4, 5)\n"
     ]
    }
   ],
   "source": [
    "# Sample list\n",
    "my_list = [1, 2, 3, 4, 5]\n",
    "\n",
    "# Convert the list to a tuple\n",
    "my_tuple = tuple(my_list)\n",
    "\n",
    "# Print the tuple\n",
    "print(\"Tuple:\", my_tuple)\n"
   ]
  },
  {
   "cell_type": "markdown",
   "id": "9b882e05",
   "metadata": {},
   "source": [
    "### Write a Python program to find the repeated items of a tuple."
   ]
  },
  {
   "cell_type": "code",
   "execution_count": 19,
   "id": "9b81129e",
   "metadata": {},
   "outputs": [
    {
     "name": "stdout",
     "output_type": "stream",
     "text": [
      "Repeated items in the tuple: [2, 4]\n"
     ]
    }
   ],
   "source": [
    "def find_repeated_items(input_tuple):\n",
    "    item_counts = {}\n",
    "    repeated_items = []\n",
    "\n",
    "    for item in input_tuple:\n",
    "        if item in item_counts:\n",
    "            item_counts[item] += 1\n",
    "            if item not in repeated_items:\n",
    "                repeated_items.append(item)\n",
    "        else:\n",
    "            item_counts[item] = 1\n",
    "\n",
    "    return repeated_items\n",
    "\n",
    "# Example usage\n",
    "my_tuple = (1, 2, 2, 3, 4, 4, 5)\n",
    "repeated_items = find_repeated_items(my_tuple)\n",
    "\n",
    "print(\"Repeated items in the tuple:\", repeated_items)\n"
   ]
  },
  {
   "cell_type": "markdown",
   "id": "a4b253d1",
   "metadata": {},
   "source": [
    "###  Write a Python program to remove an empty tuple(s) from a list of tuples"
   ]
  },
  {
   "cell_type": "code",
   "execution_count": 20,
   "id": "5b573974",
   "metadata": {},
   "outputs": [
    {
     "name": "stdout",
     "output_type": "stream",
     "text": [
      "List after removing empty tuples: [(1, 2), (3, 4), (5, 6)]\n"
     ]
    }
   ],
   "source": [
    "# Sample list of tuples with empty tuple(s)\n",
    "list_of_tuples = [(1, 2), (), (3, 4), (), (5, 6), ()]\n",
    "\n",
    "# Remove empty tuples using list comprehension\n",
    "filtered_list = [tup for tup in list_of_tuples if tup]\n",
    "\n",
    "# Print the filtered list\n",
    "print(\"List after removing empty tuples:\", filtered_list)\n"
   ]
  },
  {
   "cell_type": "markdown",
   "id": "e4b2114c",
   "metadata": {},
   "source": [
    "### Write a Python program to unzip a list of tuples into individual lists. "
   ]
  },
  {
   "cell_type": "code",
   "execution_count": 21,
   "id": "1b624da0",
   "metadata": {},
   "outputs": [
    {
     "name": "stdout",
     "output_type": "stream",
     "text": [
      "Unzipped lists:\n",
      "List 1: (1, 3, 5)\n",
      "List 2: (2, 4, 6)\n"
     ]
    }
   ],
   "source": [
    "# Sample list of tuples\n",
    "list_of_tuples = [(1, 2), (3, 4), (5, 6)]\n",
    "\n",
    "# Unzip the list of tuples into individual lists\n",
    "unzipped_lists = list(zip(*list_of_tuples))\n",
    "\n",
    "# Print the individual lists\n",
    "print(\"Unzipped lists:\")\n",
    "for index, item in enumerate(unzipped_lists):\n",
    "    print(f\"List {index + 1}: {item}\")\n"
   ]
  },
  {
   "cell_type": "markdown",
   "id": "f6c16416",
   "metadata": {},
   "source": [
    "### Write a Python function to check whether a number is in a given range"
   ]
  },
  {
   "cell_type": "code",
   "execution_count": 22,
   "id": "5c2e1e91",
   "metadata": {},
   "outputs": [
    {
     "name": "stdout",
     "output_type": "stream",
     "text": [
      "55 is in the range from 1 to 100.\n"
     ]
    }
   ],
   "source": [
    "def is_in_range(number, start, end):\n",
    "    \"\"\"\n",
    "    Function to check if a number is in a given range.\n",
    "    \n",
    "    Args:\n",
    "    number (int): The number to check.\n",
    "    start (int): The start of the range.\n",
    "    end (int): The end of the range.\n",
    "    \n",
    "    Returns:\n",
    "    bool: True if the number is in the range, False otherwise.\n",
    "    \"\"\"\n",
    "    return start <= number <= end\n",
    "\n",
    "# Example usage\n",
    "start_range = 1\n",
    "end_range = 100\n",
    "check_number = 55\n",
    "\n",
    "if is_in_range(check_number, start_range, end_range):\n",
    "    print(f\"{check_number} is in the range from {start_range} to {end_range}.\")\n",
    "else:\n",
    "    print(f\"{check_number} is not in the range from {start_range} to {end_range}.\")\n"
   ]
  },
  {
   "cell_type": "markdown",
   "id": "ca38d306",
   "metadata": {},
   "source": [
    "### Write a Python function that checks whether a passed string is palindrome or not "
   ]
  },
  {
   "cell_type": "code",
   "execution_count": 23,
   "id": "e20061fb",
   "metadata": {},
   "outputs": [
    {
     "name": "stdout",
     "output_type": "stream",
     "text": [
      "'A man, a plan, a canal, Panama!' is a palindrome.\n"
     ]
    }
   ],
   "source": [
    "def is_palindrome(input_string):\n",
    "    \"\"\"\n",
    "    Function to check if a string is a palindrome.\n",
    "    \n",
    "    Args:\n",
    "    input_string (str): The string to check.\n",
    "    \n",
    "    Returns:\n",
    "    bool: True if the string is a palindrome, False otherwise.\n",
    "    \"\"\"\n",
    "    cleaned_string = ''.join(char.lower() for char in input_string if char.isalnum())\n",
    "    return cleaned_string == cleaned_string[::-1]\n",
    "\n",
    "# Example usage\n",
    "input_string = \"A man, a plan, a canal, Panama!\"\n",
    "if is_palindrome(input_string):\n",
    "    print(f\"'{input_string}' is a palindrome.\")\n",
    "else:\n",
    "    print(f\"'{input_string}' is not a palindrome.\")\n"
   ]
  },
  {
   "cell_type": "markdown",
   "id": "19e7c4e5",
   "metadata": {},
   "source": [
    "### Write a Python program to returns sum of all divisors of a number "
   ]
  },
  {
   "cell_type": "code",
   "execution_count": 24,
   "id": "5fd0d815",
   "metadata": {},
   "outputs": [
    {
     "name": "stdout",
     "output_type": "stream",
     "text": [
      "Sum of divisors of 10 is: 18\n"
     ]
    }
   ],
   "source": [
    "def sum_of_divisors(number):\n",
    "    \"\"\"\n",
    "    Function to calculate the sum of all divisors of a number.\n",
    "    \n",
    "    Args:\n",
    "    number (int): The number for which divisors are to be calculated.\n",
    "    \n",
    "    Returns:\n",
    "    int: Sum of all divisors of the input number.\n",
    "    \"\"\"\n",
    "    divisor_sum = 0\n",
    "    for i in range(1, number + 1):\n",
    "        if number % i == 0:\n",
    "            divisor_sum += i\n",
    "    return divisor_sum\n",
    "\n",
    "# Example usage\n",
    "input_number = 10\n",
    "result = sum_of_divisors(input_number)\n",
    "print(f\"Sum of divisors of {input_number} is: {result}\")\n"
   ]
  },
  {
   "cell_type": "markdown",
   "id": "e64676e6",
   "metadata": {},
   "source": [
    "### Write a Python program to find the maximum and minimum numbers from the specified decimal numbers. "
   ]
  },
  {
   "cell_type": "code",
   "execution_count": 25,
   "id": "119282e9",
   "metadata": {},
   "outputs": [
    {
     "name": "stdout",
     "output_type": "stream",
     "text": [
      "Maximum number: 4.8\n",
      "Minimum number: 1.3\n"
     ]
    }
   ],
   "source": [
    "# Sample list of decimal numbers\n",
    "decimal_numbers = [2.5, 1.3, 4.8, 3.1, 2.7]\n",
    "\n",
    "# Find the maximum and minimum numbers\n",
    "maximum_number = max(decimal_numbers)\n",
    "minimum_number = min(decimal_numbers)\n",
    "\n",
    "# Print the maximum and minimum numbers\n",
    "print(\"Maximum number:\", maximum_number)\n",
    "print(\"Minimum number:\", minimum_number)\n"
   ]
  },
  {
   "cell_type": "markdown",
   "id": "afc120de",
   "metadata": {},
   "source": [
    "### Write a Python program to calculate the area of a parallelogram "
   ]
  },
  {
   "cell_type": "code",
   "execution_count": 26,
   "id": "0d4e61b6",
   "metadata": {},
   "outputs": [
    {
     "name": "stdout",
     "output_type": "stream",
     "text": [
      "Enter the length of the base: 25\n",
      "Enter the height: 55\n",
      "Area of the parallelogram: 1375.0\n"
     ]
    }
   ],
   "source": [
    "def parallelogram_area(base, height):\n",
    "    \"\"\"\n",
    "    Function to calculate the area of a parallelogram.\n",
    "    \n",
    "    Args:\n",
    "    base (float): Length of the base of the parallelogram.\n",
    "    height (float): Height of the parallelogram.\n",
    "    \n",
    "    Returns:\n",
    "    float: Area of the parallelogram.\n",
    "    \"\"\"\n",
    "    area = base * height\n",
    "    return area\n",
    "\n",
    "# Example usage\n",
    "base_length = float(input(\"Enter the length of the base: \"))\n",
    "height = float(input(\"Enter the height: \"))\n",
    "\n",
    "area = parallelogram_area(base_length, height)\n",
    "print(\"Area of the parallelogram:\", area)\n"
   ]
  },
  {
   "cell_type": "markdown",
   "id": "23ab496f",
   "metadata": {},
   "source": [
    "### Write a Python function to check whether a number is perfect or not. "
   ]
  },
  {
   "cell_type": "code",
   "execution_count": 28,
   "id": "2d7e8da7",
   "metadata": {},
   "outputs": [
    {
     "name": "stdout",
     "output_type": "stream",
     "text": [
      "Enter a number: 6\n",
      "6 is a perfect number.\n"
     ]
    }
   ],
   "source": [
    "def is_perfect_number(number):\n",
    "    \"\"\"\n",
    "    Function to check whether a number is a perfect number or not.\n",
    "    \n",
    "    Args:\n",
    "    number (int): The number to be checked.\n",
    "    \n",
    "    Returns:\n",
    "    bool: True if the number is a perfect number, False otherwise.\n",
    "    \"\"\"\n",
    "    if number <= 0:\n",
    "        return False\n",
    "    \n",
    "    divisor_sum = sum(i for i in range(1, number) if number % i == 0)\n",
    "    return divisor_sum == number\n",
    "\n",
    "# Example usage\n",
    "input_number = int(input(\"Enter a number: \"))\n",
    "\n",
    "if is_perfect_number(input_number):\n",
    "    print(f\"{input_number} is a perfect number.\")\n",
    "else:\n",
    "    print(f\"{input_number} is not a perfect number.\")\n"
   ]
  },
  {
   "cell_type": "markdown",
   "id": "5e41e219",
   "metadata": {},
   "source": [
    "### Write a Python program to convert degree to radian"
   ]
  },
  {
   "cell_type": "code",
   "execution_count": 29,
   "id": "87fb8406",
   "metadata": {},
   "outputs": [
    {
     "name": "stdout",
     "output_type": "stream",
     "text": [
      "Enter the degree value: 180\n",
      "180.0 degrees is equal to 3.141592653589793 radians.\n"
     ]
    }
   ],
   "source": [
    "import math\n",
    "\n",
    "def degrees_to_radians(degrees):\n",
    "    \"\"\"\n",
    "    Function to convert degrees to radians.\n",
    "    \n",
    "    Args:\n",
    "    degrees (float): Degree value to be converted.\n",
    "    \n",
    "    Returns:\n",
    "    float: Radian value after conversion.\n",
    "    \"\"\"\n",
    "    radians = degrees * (math.pi / 180)\n",
    "    return radians\n",
    "\n",
    "# Example usage\n",
    "input_degrees = float(input(\"Enter the degree value: \"))\n",
    "radians = degrees_to_radians(input_degrees)\n",
    "print(f\"{input_degrees} degrees is equal to {radians} radians.\")\n"
   ]
  },
  {
   "cell_type": "markdown",
   "id": "368bba70",
   "metadata": {},
   "source": [
    "###  Write a Python program to calculate the area of a trapezoid "
   ]
  },
  {
   "cell_type": "code",
   "execution_count": 30,
   "id": "34ef44e0",
   "metadata": {},
   "outputs": [
    {
     "name": "stdout",
     "output_type": "stream",
     "text": [
      "Enter the length of the first parallel side: 5\n",
      "Enter the length of the second parallel side: 10\n",
      "Enter the height of the trapezoid: 15\n",
      "Area of the trapezoid: 112.5\n"
     ]
    }
   ],
   "source": [
    "def trapezoid_area(base1, base2, height):\n",
    "    \"\"\"\n",
    "    Function to calculate the area of a trapezoid.\n",
    "    \n",
    "    Args:\n",
    "    base1 (float): Length of the first parallel side.\n",
    "    base2 (float): Length of the second parallel side.\n",
    "    height (float): Height of the trapezoid.\n",
    "    \n",
    "    Returns:\n",
    "    float: Area of the trapezoid.\n",
    "    \"\"\"\n",
    "    area = 0.5 * (base1 + base2) * height\n",
    "    return area\n",
    "\n",
    "# Example usage\n",
    "base1_length = float(input(\"Enter the length of the first parallel side: \"))\n",
    "base2_length = float(input(\"Enter the length of the second parallel side: \"))\n",
    "trapezoid_height = float(input(\"Enter the height of the trapezoid: \"))\n",
    "\n",
    "area = trapezoid_area(base1_length, base2_length, trapezoid_height)\n",
    "print(\"Area of the trapezoid:\", area)\n"
   ]
  },
  {
   "cell_type": "markdown",
   "id": "8bf811b7",
   "metadata": {},
   "source": [
    "## Write a Python program to calculate surface volume and area of a cylinder "
   ]
  },
  {
   "cell_type": "code",
   "execution_count": 31,
   "id": "f5fc9dfb",
   "metadata": {},
   "outputs": [
    {
     "name": "stdout",
     "output_type": "stream",
     "text": [
      "Enter the radius of the cylinder: 3\n",
      "Enter the height of the cylinder: 8\n",
      "Surface Area of the cylinder: 207.34511513692635\n",
      "Volume of the cylinder: 226.1946710584651\n"
     ]
    }
   ],
   "source": [
    "import math\n",
    "\n",
    "def cylinder_surface_area(radius, height):\n",
    "    \"\"\"\n",
    "    Function to calculate the surface area of a cylinder.\n",
    "    \n",
    "    Args:\n",
    "    radius (float): Radius of the cylinder.\n",
    "    height (float): Height of the cylinder.\n",
    "    \n",
    "    Returns:\n",
    "    float: Surface area of the cylinder.\n",
    "    \"\"\"\n",
    "    surface_area = 2 * math.pi * radius * (radius + height)\n",
    "    return surface_area\n",
    "\n",
    "def cylinder_volume(radius, height):\n",
    "    \"\"\"\n",
    "    Function to calculate the volume of a cylinder.\n",
    "    \n",
    "    Args:\n",
    "    radius (float): Radius of the cylinder.\n",
    "    height (float): Height of the cylinder.\n",
    "    \n",
    "    Returns:\n",
    "    float: Volume of the cylinder.\n",
    "    \"\"\"\n",
    "    volume = math.pi * radius**2 * height\n",
    "    return volume\n",
    "\n",
    "# Example usage\n",
    "radius = float(input(\"Enter the radius of the cylinder: \"))\n",
    "height = float(input(\"Enter the height of the cylinder: \"))\n",
    "\n",
    "surface_area = cylinder_surface_area(radius, height)\n",
    "volume = cylinder_volume(radius, height)\n",
    "\n",
    "print(\"Surface Area of the cylinder:\", surface_area)\n",
    "print(\"Volume of the cylinder:\", volume)\n"
   ]
  },
  {
   "cell_type": "code",
   "execution_count": null,
   "id": "28cae912",
   "metadata": {},
   "outputs": [],
   "source": []
  }
 ],
 "metadata": {
  "kernelspec": {
   "display_name": "Python 3 (ipykernel)",
   "language": "python",
   "name": "python3"
  },
  "language_info": {
   "codemirror_mode": {
    "name": "ipython",
    "version": 3
   },
   "file_extension": ".py",
   "mimetype": "text/x-python",
   "name": "python",
   "nbconvert_exporter": "python",
   "pygments_lexer": "ipython3",
   "version": "3.11.4"
  },
  "vscode": {
   "interpreter": {
    "hash": "5ae58900cfbb8c43ab3495913814b7cf26024f51651a94ce8bf64d6111688e8d"
   }
  }
 },
 "nbformat": 4,
 "nbformat_minor": 5
}
