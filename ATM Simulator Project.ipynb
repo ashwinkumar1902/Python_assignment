{
 "cells": [
  {
   "cell_type": "markdown",
   "id": "1b3b6730",
   "metadata": {},
   "source": [
    "#                                        ATM Simulator Project\n"
   ]
  },
  {
   "cell_type": "code",
   "execution_count": 1,
   "id": "c7e00ba3",
   "metadata": {},
   "outputs": [
    {
     "name": "stdout",
     "output_type": "stream",
     "text": [
      "Enter your 4-digit PIN: 1234\n",
      "\n",
      "ATM Menu:\n",
      "1. Check Balance\n",
      "2. Withdraw Money\n",
      "3. Deposit Money\n",
      "4. Exit\n",
      "Enter your choice: 1\n",
      "Your balance is: 0 units\n",
      "\n",
      "ATM Menu:\n",
      "1. Check Balance\n",
      "2. Withdraw Money\n",
      "3. Deposit Money\n",
      "4. Exit\n",
      "Enter your choice: 2\n",
      "Enter the amount to withdraw: 1000\n",
      "Insufficient funds\n",
      "\n",
      "ATM Menu:\n",
      "1. Check Balance\n",
      "2. Withdraw Money\n",
      "3. Deposit Money\n",
      "4. Exit\n",
      "Enter your choice: 3\n",
      "Enter the amount to deposit: 5000\n",
      "Deposited 5000.0 units. New balance: 5000.0 units\n",
      "\n",
      "ATM Menu:\n",
      "1. Check Balance\n",
      "2. Withdraw Money\n",
      "3. Deposit Money\n",
      "4. Exit\n",
      "Enter your choice: 4\n",
      "Thank you for using the ATM. Goodbye!\n"
     ]
    }
   ],
   "source": [
    "class ATM:\n",
    "    def __init__(self, pin, balance=0):\n",
    "        self.pin = pin\n",
    "        self.balance = balance\n",
    "\n",
    "    def check_balance(self):\n",
    "        return self.balance\n",
    "\n",
    "    def deposit(self, amount):\n",
    "        self.balance += amount\n",
    "        return f\"Deposited {amount} units. New balance: {self.balance} units\"\n",
    "\n",
    "    def withdraw(self, amount):\n",
    "        if amount > self.balance:\n",
    "            return \"Insufficient funds\"\n",
    "        else:\n",
    "            self.balance -= amount\n",
    "            return f\"Withdrew {amount} units. New balance: {self.balance} units\"\n",
    "\n",
    "# Main function\n",
    "def main():\n",
    "    pin = input(\"Enter your 4-digit PIN: \")\n",
    "    atm = ATM(pin)\n",
    "\n",
    "    while True:\n",
    "        print(\"\\nATM Menu:\")\n",
    "        print(\"1. Check Balance\")\n",
    "        print(\"2. Withdraw Money\")\n",
    "        print(\"3. Deposit Money\")\n",
    "        print(\"4. Exit\")\n",
    "        \n",
    "        choice = input(\"Enter your choice: \")\n",
    "\n",
    "        if choice == \"1\":\n",
    "            print(f\"Your balance is: {atm.check_balance()} units\")\n",
    "        elif choice == \"2\":\n",
    "            amount = float(input(\"Enter the amount to withdraw: \"))\n",
    "            print(atm.withdraw(amount))\n",
    "        elif choice == \"3\":\n",
    "            amount = float(input(\"Enter the amount to deposit: \"))\n",
    "            print(atm.deposit(amount))\n",
    "        elif choice == \"4\":\n",
    "            print(\"Thank you for using the ATM. Goodbye!\")\n",
    "            break\n",
    "        else:\n",
    "            print(\"Invalid choice. Please try again.\")\n",
    "\n",
    "if __name__ == \"__main__\":\n",
    "    main()\n"
   ]
  },
  {
   "cell_type": "code",
   "execution_count": null,
   "id": "9af09fda",
   "metadata": {},
   "outputs": [],
   "source": []
  }
 ],
 "metadata": {
  "kernelspec": {
   "display_name": "Python 3 (ipykernel)",
   "language": "python",
   "name": "python3"
  },
  "language_info": {
   "codemirror_mode": {
    "name": "ipython",
    "version": 3
   },
   "file_extension": ".py",
   "mimetype": "text/x-python",
   "name": "python",
   "nbconvert_exporter": "python",
   "pygments_lexer": "ipython3",
   "version": "3.11.4"
  }
 },
 "nbformat": 4,
 "nbformat_minor": 5
}
