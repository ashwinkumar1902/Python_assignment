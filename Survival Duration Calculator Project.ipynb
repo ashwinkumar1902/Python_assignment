{
 "cells": [
  {
   "cell_type": "markdown",
   "id": "82cdc6f1",
   "metadata": {},
   "source": [
    "# Survival Duration Calculator Project\n"
   ]
  },
  {
   "cell_type": "code",
   "execution_count": 1,
   "id": "26165dd7",
   "metadata": {},
   "outputs": [
    {
     "name": "stdout",
     "output_type": "stream",
     "text": [
      "Enter age: 22\n",
      "Years: 22\n",
      "Months: 0\n",
      "Weeks: 1147\n",
      "Days: 8035\n",
      "Hours: 12\n",
      "Minutes: 0\n",
      "Seconds: 0\n"
     ]
    }
   ],
   "source": [
    "import datetime\n",
    "\n",
    "def calculate_duration(age):\n",
    "    current_date = datetime.datetime.now()\n",
    "    birth_date = current_date - datetime.timedelta(days=365.25 * age)\n",
    "    \n",
    "    duration = current_date - birth_date\n",
    "    years = duration.days // 365\n",
    "    months = (duration.days % 365) // 30\n",
    "    weeks = duration.days // 7\n",
    "    days = duration.days\n",
    "    hours = duration.seconds // 3600\n",
    "    minutes = (duration.seconds % 3600) // 60\n",
    "    seconds = duration.seconds % 60\n",
    "    \n",
    "    return years, months, weeks, days, hours, minutes, seconds\n",
    "\n",
    "def main():\n",
    "    age = int(input(\"Enter age: \"))\n",
    "    years, months, weeks, days, hours, minutes, seconds = calculate_duration(age)\n",
    "    \n",
    "    print(f\"Years: {years}\")\n",
    "    print(f\"Months: {months}\")\n",
    "    print(f\"Weeks: {weeks}\")\n",
    "    print(f\"Days: {days}\")\n",
    "    print(f\"Hours: {hours}\")\n",
    "    print(f\"Minutes: {minutes}\")\n",
    "    print(f\"Seconds: {seconds}\")\n",
    "\n",
    "if __name__ == \"__main__\":\n",
    "    main()\n"
   ]
  },
  {
   "cell_type": "code",
   "execution_count": null,
   "id": "4547720a",
   "metadata": {},
   "outputs": [],
   "source": []
  }
 ],
 "metadata": {
  "kernelspec": {
   "display_name": "Python 3 (ipykernel)",
   "language": "python",
   "name": "python3"
  },
  "language_info": {
   "codemirror_mode": {
    "name": "ipython",
    "version": 3
   },
   "file_extension": ".py",
   "mimetype": "text/x-python",
   "name": "python",
   "nbconvert_exporter": "python",
   "pygments_lexer": "ipython3",
   "version": "3.11.4"
  }
 },
 "nbformat": 4,
 "nbformat_minor": 5
}
