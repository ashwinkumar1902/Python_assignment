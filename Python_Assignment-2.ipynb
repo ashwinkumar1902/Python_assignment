{
 "cells": [
  {
   "cell_type": "markdown",
   "id": "8d7ab3bd",
   "metadata": {},
   "source": [
    "# Python Assignment - 2\n",
    "### Total - 30 marks"
   ]
  },
  {
   "cell_type": "markdown",
   "id": "6984940a",
   "metadata": {},
   "source": [
    "#### 1. Create a list of student and their subjects and then print the count of the subjects each student is having."
   ]
  },
  {
   "cell_type": "markdown",
   "id": "2167cbb2",
   "metadata": {},
   "source": [
    "Ex: List should be of the this format \n",
    " [('Justin', ['Math', 'CompSci']),\n",
    " ('Eden', ['CompSci', 'Accounting', 'Economics'])]\n",
    " \n",
    " and the output be like,\n",
    " \n",
    "Justin takes 2 subjects\n",
    "Eden takes 3 subjects"
   ]
  },
  {
   "cell_type": "code",
   "execution_count": 1,
   "id": "c7115c59",
   "metadata": {},
   "outputs": [
    {
     "name": "stdout",
     "output_type": "stream",
     "text": [
      "Justin takes 2 subjects\n",
      "Eden takes 3 subjects\n"
     ]
    }
   ],
   "source": [
    "students = [('Justin', ['Math', 'CompSci']), ('Eden', ['CompSci', 'Accounting', 'Economics'])]\n",
    "for student in students:\n",
    "    name = student[0]\n",
    "    subjects = student[1]\n",
    "    count = len(subjects)\n",
    "    print(f\"{name} takes {count} subjects\")"
   ]
  },
  {
   "cell_type": "markdown",
   "id": "44bb9ea8",
   "metadata": {},
   "source": [
    "#### 2. Count the total number of digits in a number (ex: A mobile number)"
   ]
  },
  {
   "cell_type": "markdown",
   "id": "1d2ab3cb",
   "metadata": {},
   "source": [
    "Ex:\n",
    "number be like some random mobile number,\n",
    "\n",
    "9848000000\n",
    "\n",
    "the count of the this should be 10"
   ]
  },
  {
   "cell_type": "code",
   "execution_count": 4,
   "id": "747e9a6d",
   "metadata": {},
   "outputs": [],
   "source": [
    "def count_digits(number):\n",
    "    digits = len(str(number))\n",
    "    return digits"
   ]
  },
  {
   "cell_type": "code",
   "execution_count": 5,
   "id": "5e8b58b8",
   "metadata": {},
   "outputs": [
    {
     "name": "stdout",
     "output_type": "stream",
     "text": [
      "10\n"
     ]
    }
   ],
   "source": [
    "print(count_digits(9848000000))"
   ]
  },
  {
   "cell_type": "markdown",
   "id": "3502e833",
   "metadata": {},
   "source": [
    "#### 3. Create a for loop that prompts the user for a skill 3 times, then print the appended skills."
   ]
  },
  {
   "cell_type": "code",
   "execution_count": 8,
   "id": "dd835b29",
   "metadata": {},
   "outputs": [
    {
     "name": "stdout",
     "output_type": "stream",
     "text": [
      "Enter a skill: Python\n",
      "Appended skills: ['Python']\n",
      "Enter a skill: SQL\n",
      "Appended skills: ['Python', 'SQL']\n",
      "Enter a skill: Machine Learning\n",
      "Appended skills: ['Python', 'SQL', 'Machine Learning']\n"
     ]
    }
   ],
   "source": [
    "skills = []\n",
    "for _ in range(3):\n",
    "    skill = input(\"Enter a skill: \")\n",
    "    skills.append(skill)\n",
    "    print(\"Appended skills:\", skills)"
   ]
  },
  {
   "cell_type": "markdown",
   "id": "309395ff",
   "metadata": {},
   "source": [
    "#### 4. Define your commercial computation program with hourly rate for usual timings and extra for overtime. Create a function called commercials_calculator which takes two parameters (hours and rate).\n",
    "\n",
    "Enter Hours: 45\n",
    "\n",
    "Enter Rate: 10\n",
    "\n",
    "Pay: 475.0"
   ]
  },
  {
   "cell_type": "code",
   "execution_count": 11,
   "id": "fe142f76",
   "metadata": {},
   "outputs": [
    {
     "name": "stdout",
     "output_type": "stream",
     "text": [
      "475.0\n"
     ]
    }
   ],
   "source": [
    "def commercials_calculator(hours, rate):\n",
    "    overtime_rate = 1.5 * rate\n",
    "    if hours > 40:\n",
    "        regular_pay = 40 * rate\n",
    "        overtime_pay = (hours - 40) * overtime_rate\n",
    "        pay = regular_pay + overtime_pay\n",
    "    else:\n",
    "        pay = hours * rate\n",
    "    return pay\n",
    "print(commercials_calculator(45, 10))\n"
   ]
  },
  {
   "cell_type": "code",
   "execution_count": 12,
   "id": "48928dc7",
   "metadata": {},
   "outputs": [
    {
     "name": "stdout",
     "output_type": "stream",
     "text": [
      "450\n"
     ]
    }
   ],
   "source": [
    "print(commercials_calculator(30, 15))"
   ]
  },
  {
   "cell_type": "code",
   "execution_count": 13,
   "id": "add20e4f",
   "metadata": {},
   "outputs": [
    {
     "name": "stdout",
     "output_type": "stream",
     "text": [
      "1100.0\n"
     ]
    }
   ],
   "source": [
    "print(commercials_calculator(50, 20))"
   ]
  },
  {
   "cell_type": "code",
   "execution_count": null,
   "id": "a794887c",
   "metadata": {},
   "outputs": [],
   "source": []
  }
 ],
 "metadata": {
  "kernelspec": {
   "display_name": "Python 3 (ipykernel)",
   "language": "python",
   "name": "python3"
  },
  "language_info": {
   "codemirror_mode": {
    "name": "ipython",
    "version": 3
   },
   "file_extension": ".py",
   "mimetype": "text/x-python",
   "name": "python",
   "nbconvert_exporter": "python",
   "pygments_lexer": "ipython3",
   "version": "3.11.4"
  }
 },
 "nbformat": 4,
 "nbformat_minor": 5
}
