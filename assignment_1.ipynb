{
 "cells": [
  {
   "cell_type": "markdown",
   "id": "fb933f7e",
   "metadata": {},
   "source": [
    "# Python Assignment - 1\n",
    "#### Carries 30 marks"
   ]
  },
  {
   "cell_type": "markdown",
   "id": "b4896514",
   "metadata": {},
   "source": [
    "### Write a Python program to sum of three given integers. However, if two values are equal sum will be zero."
   ]
  },
  {
   "cell_type": "code",
   "execution_count": 8,
   "id": "230cee62",
   "metadata": {},
   "outputs": [
    {
     "name": "stdout",
     "output_type": "stream",
     "text": [
      "Enter the first integer: 10\n",
      "Enter the second integer: 15\n",
      "Enter the third integer: 10\n",
      "Sum of the three integers with the special condition: 0\n"
     ]
    }
   ],
   "source": [
    "# Function to calculate sum of three integers, with a special condition\n",
    "def sum_with_condition(a, b, c):\n",
    "    if a == b or b == c or a == c:\n",
    "        return 0\n",
    "    else:\n",
    "        return a + b + c\n",
    "\n",
    "num1 = int(input(\"Enter the first integer: \"))\n",
    "num2 = int(input(\"Enter the second integer: \"))\n",
    "num3 = int(input(\"Enter the third integer: \"))\n",
    "\n",
    "result = sum_with_condition(num1, num2, num3)\n",
    "\n",
    "print(\"Sum of the three integers with the special condition:\", result)\n"
   ]
  },
  {
   "cell_type": "markdown",
   "id": "44498b23",
   "metadata": {},
   "source": [
    "### Write a Python program to test whether a passed letter is a vowel or not."
   ]
  },
  {
   "cell_type": "code",
   "execution_count": 9,
   "id": "5800a1e9",
   "metadata": {},
   "outputs": [
    {
     "name": "stdout",
     "output_type": "stream",
     "text": [
      "Enter a letter: e\n",
      "e is a vowel.\n"
     ]
    }
   ],
   "source": [
    "# Function to check if a letter is a vowel\n",
    "def is_vowel(letter):\n",
    "    vowels = \"aeiouAEIOU\"\n",
    "    return letter in vowels\n",
    "\n",
    "letter = input(\"Enter a letter: \")\n",
    "\n",
    "if len(letter) == 1 and letter.isalpha():\n",
    "    if is_vowel(letter):\n",
    "        print(letter, \"is a vowel.\")\n",
    "    else:\n",
    "        print(letter, \"is not a vowel.\")\n",
    "else:\n",
    "    print(\"Invalid input. Please enter a single letter.\")\n"
   ]
  },
  {
   "cell_type": "markdown",
   "id": "999e1c55",
   "metadata": {},
   "source": [
    "### Write python program that swap two number with temp variable and without temp variable."
   ]
  },
  {
   "cell_type": "code",
   "execution_count": 10,
   "id": "71b08ddf",
   "metadata": {},
   "outputs": [
    {
     "name": "stdout",
     "output_type": "stream",
     "text": [
      "Enter the first number: 6\n",
      "Enter the second number: 8\n",
      "Numbers after swapping with a temporary variable: 8 and 6\n"
     ]
    }
   ],
   "source": [
    "# Swapping two numbers with a temporary variable\n",
    "def swap_with_temp(a, b):\n",
    "    temp = a\n",
    "    a = b\n",
    "    b = temp\n",
    "    return a, b\n",
    "\n",
    "num1 = int(input(\"Enter the first number: \"))\n",
    "num2 = int(input(\"Enter the second number: \"))\n",
    "\n",
    "num1, num2 = swap_with_temp(num1, num2)\n",
    "\n",
    "print(\"Numbers after swapping with a temporary variable: {} and {}\".format(num1, num2))\n"
   ]
  },
  {
   "cell_type": "code",
   "execution_count": 11,
   "id": "67c60cf3",
   "metadata": {},
   "outputs": [
    {
     "name": "stdout",
     "output_type": "stream",
     "text": [
      "Enter the first number: 8\n",
      "Enter the second number: 3\n",
      "Numbers after swapping without a temporary variable: 3 and 8\n"
     ]
    }
   ],
   "source": [
    "# Swapping two numbers without a temporary variable\n",
    "def swap_without_temp(a, b):\n",
    "    a = a + b\n",
    "    b = a - b\n",
    "    a = a - b\n",
    "    return a, b\n",
    "\n",
    "num1 = int(input(\"Enter the first number: \"))\n",
    "num2 = int(input(\"Enter the second number: \"))\n",
    "\n",
    "num1, num2 = swap_without_temp(num1, num2)\n",
    "\n",
    "print(\"Numbers after swapping without a temporary variable: {} and {}\".format(num1, num2))\n"
   ]
  },
  {
   "cell_type": "markdown",
   "id": "d9805ba4",
   "metadata": {},
   "source": [
    "### Write a Python program to calculate the length of a string."
   ]
  },
  {
   "cell_type": "code",
   "execution_count": 12,
   "id": "df81befe",
   "metadata": {},
   "outputs": [
    {
     "name": "stdout",
     "output_type": "stream",
     "text": [
      "Enter a string: good morning\n",
      "Length of the string: 12\n"
     ]
    }
   ],
   "source": [
    "# Function to calculate the length of a string\n",
    "def calculate_string_length(input_string):\n",
    "    return len(input_string)\n",
    "\n",
    "input_string = input(\"Enter a string: \")\n",
    "\n",
    "length = calculate_string_length(input_string)\n",
    "\n",
    "print(\"Length of the string:\", length)\n"
   ]
  },
  {
   "cell_type": "markdown",
   "id": "99144e41",
   "metadata": {},
   "source": [
    "### Write a Python program to find whether a given number is even or odd,print out an appropriate message to the user."
   ]
  },
  {
   "cell_type": "code",
   "execution_count": 13,
   "id": "dbbf15d7",
   "metadata": {},
   "outputs": [
    {
     "name": "stdout",
     "output_type": "stream",
     "text": [
      "Enter a number: 10\n",
      "The number is Even\n"
     ]
    }
   ],
   "source": [
    "# Function to check if a number is even or odd\n",
    "def check_even_odd(number):\n",
    "    if number % 2 == 0:\n",
    "        return \"Even\"\n",
    "    else:\n",
    "        return \"Odd\"\n",
    "\n",
    "# Taking input from the user\n",
    "number = int(input(\"Enter a number: \"))\n",
    "\n",
    "result = check_even_odd(number)\n",
    "\n",
    "print(\"The number is\", result)\n"
   ]
  },
  {
   "cell_type": "markdown",
   "id": "0a560977",
   "metadata": {},
   "source": [
    "### write a programme to find biggest number of given three values."
   ]
  },
  {
   "cell_type": "code",
   "execution_count": 16,
   "id": "4f3fa091",
   "metadata": {},
   "outputs": [
    {
     "name": "stdout",
     "output_type": "stream",
     "text": [
      "Enter the first number: 100\n",
      "Enter the second number: 50\n",
      "Enter the third number: 20\n",
      "The largest number among 100 , 50 and 20 is 100\n"
     ]
    }
   ],
   "source": [
    "# Function to find the largest number among three values\n",
    "def find_largest_number(num1, num2, num3):\n",
    "    return max(num1, num2, num3)\n",
    "\n",
    "# Taking input from the user\n",
    "num1 = int(input(\"Enter the first number: \"))\n",
    "num2 = int(input(\"Enter the second number: \"))\n",
    "num3 = int(input(\"Enter the third number: \"))\n",
    "\n",
    "# Finding the largest number among the three\n",
    "largest_number = find_largest_number(num1, num2, num3)\n",
    "\n",
    "# Displaying the result\n",
    "print(\"The largest number among\", num1, \",\", num2, \"and\", num3, \"is\", largest_number)\n"
   ]
  },
  {
   "cell_type": "markdown",
   "id": "5327a33b",
   "metadata": {},
   "source": [
    "### Write a Python program that will return true if the two given integer values are equal or their sum or difference is 5."
   ]
  },
  {
   "cell_type": "code",
   "execution_count": 17,
   "id": "1aa41bcc",
   "metadata": {},
   "outputs": [
    {
     "name": "stdout",
     "output_type": "stream",
     "text": [
      "Enter the first integer: 2\n",
      "Enter the second integer: 3\n",
      "True\n"
     ]
    }
   ],
   "source": [
    "# Function to check if two integers satisfy the condition\n",
    "def check_condition(num1, num2):\n",
    "    return num1 == num2 or abs(num1 - num2) == 5 or num1 + num2 == 5\n",
    "\n",
    "# Taking input from the user\n",
    "num1 = int(input(\"Enter the first integer: \"))\n",
    "num2 = int(input(\"Enter the second integer: \"))\n",
    "\n",
    "# Checking the condition and displaying the result\n",
    "if check_condition(num1, num2):\n",
    "    print(\"True\")\n",
    "else:\n",
    "    print(\"False\")\n"
   ]
  },
  {
   "cell_type": "markdown",
   "id": "b1075328",
   "metadata": {},
   "source": [
    "### Write a python program to sum of the first n positive integers."
   ]
  },
  {
   "cell_type": "code",
   "execution_count": 18,
   "id": "5d474698",
   "metadata": {},
   "outputs": [
    {
     "name": "stdout",
     "output_type": "stream",
     "text": [
      "Enter a positive integer (n): 5\n",
      "Sum of the first 5 positive integers is: 15\n"
     ]
    }
   ],
   "source": [
    "# Function to calculate the sum of the first n positive integers\n",
    "def sum_of_positive_integers(n):\n",
    "    return (n * (n + 1)) // 2\n",
    "\n",
    "# Taking input from the user\n",
    "n = int(input(\"Enter a positive integer (n): \"))\n",
    "\n",
    "# Validating the input\n",
    "if n <= 0:\n",
    "    print(\"Please enter a positive integer.\")\n",
    "else:\n",
    "    # Calculating the sum of the first n positive integers\n",
    "    result = sum_of_positive_integers(n)\n",
    "    print(\"Sum of the first\", n, \"positive integers is:\", result)\n"
   ]
  },
  {
   "cell_type": "markdown",
   "id": "e480000b",
   "metadata": {},
   "source": [
    "### Write a Python program to calculate the length of a string."
   ]
  },
  {
   "cell_type": "code",
   "execution_count": 19,
   "id": "e154e64e",
   "metadata": {},
   "outputs": [
    {
     "name": "stdout",
     "output_type": "stream",
     "text": [
      "Enter a string: good afternoon\n",
      "Length of the string: 14\n"
     ]
    }
   ],
   "source": [
    "# Taking input from the user\n",
    "input_string = input(\"Enter a string: \")\n",
    "\n",
    "# Calculating the length of the input string using the len() function\n",
    "length = len(input_string)\n",
    "\n",
    "# Displaying the length of the string\n",
    "print(\"Length of the string:\", length)\n"
   ]
  },
  {
   "cell_type": "markdown",
   "id": "83f1be28",
   "metadata": {},
   "source": [
    "### What is the purpose continue statement in python?"
   ]
  },
  {
   "cell_type": "markdown",
   "id": "d807cd15",
   "metadata": {},
   "source": [
    "The continue statement is typically used when you want to avoid executing specific code under certain conditions but continue the loop execution for other iterations. It allows you to control the flow of the loop and skip certain iterations based on specific conditions.\n",
    "\n"
   ]
  },
  {
   "cell_type": "markdown",
   "id": "728d8b7a",
   "metadata": {},
   "source": [
    "### Write a Python program to add 'ing' at the end of a given string (length should be at least 3). If the given string already ends with 'ing' then add 'ly' instead if the string length of the given string is less than 3, leave it unchanged.\n"
   ]
  },
  {
   "cell_type": "code",
   "execution_count": 20,
   "id": "c90c977e",
   "metadata": {},
   "outputs": [
    {
     "name": "stdout",
     "output_type": "stream",
     "text": [
      "Enter a string: play\n",
      "Modified string: playing\n"
     ]
    }
   ],
   "source": [
    "# Function to modify the given string based on the conditions\n",
    "def modify_string(input_string):\n",
    "    if len(input_string) < 3:\n",
    "        return input_string\n",
    "    elif input_string.endswith('ing'):\n",
    "        return input_string + 'ly'\n",
    "    else:\n",
    "        return input_string + 'ing'\n",
    "\n",
    "# Taking input from the user\n",
    "input_string = input(\"Enter a string: \")\n",
    "\n",
    "# Modifying the string based on the conditions\n",
    "modified_string = modify_string(input_string)\n",
    "\n",
    "# Displaying the modified string\n",
    "print(\"Modified string:\", modified_string)\n"
   ]
  },
  {
   "cell_type": "markdown",
   "id": "78208ba5",
   "metadata": {},
   "source": [
    "### Write a Python program to find the first appearance of the substring 'not' and 'poor' from a given string, if 'not' follows the 'poor', replace the whole 'not'...'poor' substring with 'good'. Return the resulting string"
   ]
  },
  {
   "cell_type": "code",
   "execution_count": 23,
   "id": "7d8711c7",
   "metadata": {},
   "outputs": [
    {
     "name": "stdout",
     "output_type": "stream",
     "text": [
      "Enter a string: he is not poor, but he is not rich either.\n",
      "Resulting string: he is good, but he is not rich either.\n"
     ]
    }
   ],
   "source": [
    "# Function to replace 'not'...'poor' with 'good' if 'not' is followed by 'poor'\n",
    "def replace_not_poor(input_string):\n",
    "    not_index = input_string.find('not')\n",
    "    poor_index = input_string.find('poor')\n",
    "    \n",
    "    if not_index != -1 and poor_index != -1 and not_index < poor_index:\n",
    "        return input_string[:not_index] + 'good' + input_string[poor_index + 4:]\n",
    "    else:\n",
    "        return input_string\n",
    "\n",
    "# Taking input from the user\n",
    "input_string = input(\"Enter a string: \")\n",
    "\n",
    "# Replacing 'not'...'poor' with 'good' if the condition is met\n",
    "result_string = replace_not_poor(input_string)\n",
    "\n",
    "# Displaying the resulting string\n",
    "print(\"Resulting string:\", result_string)\n"
   ]
  },
  {
   "cell_type": "markdown",
   "id": "7f264574",
   "metadata": {},
   "source": [
    "### Write a Python function to insert a string in the middle of a string."
   ]
  },
  {
   "cell_type": "code",
   "execution_count": 24,
   "id": "f4a4cffe",
   "metadata": {},
   "outputs": [
    {
     "name": "stdout",
     "output_type": "stream",
     "text": [
      "Enter the main string: hello universe\n",
      "Enter the string to be inserted: ordinary matter\n",
      "Enter the position to insert the string: 6\n",
      "Resulting string: hello ordinary matteruniverse\n"
     ]
    }
   ],
   "source": [
    "# Function to insert a string in the middle of another string\n",
    "def insert_middle(main_string, insert_string, position):\n",
    "    return main_string[:position] + insert_string + main_string[position:]\n",
    "\n",
    "# Example usage\n",
    "main_string = input(\"Enter the main string: \")\n",
    "insert_string = input(\"Enter the string to be inserted: \")\n",
    "position = int(input(\"Enter the position to insert the string: \"))\n",
    "\n",
    "# Inserting the string in the middle\n",
    "result_string = insert_middle(main_string, insert_string, position)\n",
    "\n",
    "# Displaying the resulting string\n",
    "print(\"Resulting string:\", result_string)\n"
   ]
  },
  {
   "cell_type": "markdown",
   "id": "5435ccd0",
   "metadata": {},
   "source": [
    "### reverses a string if its length is a multiple of 4."
   ]
  },
  {
   "cell_type": "code",
   "execution_count": 28,
   "id": "e3554c81",
   "metadata": {},
   "outputs": [
    {
     "name": "stdout",
     "output_type": "stream",
     "text": [
      "Enter a string: pythonic\n",
      "Result: cinohtyp\n"
     ]
    }
   ],
   "source": [
    "def reverse_string_if_multiple_of_4(input_string):\n",
    "    if len(input_string) % 4 == 0:\n",
    "        return input_string[::-1]  # Reversing the string using slicing\n",
    "    else:\n",
    "        return input_string\n",
    "\n",
    "# Example usage:\n",
    "input_string = input(\"Enter a string: \")\n",
    "result = reverse_string_if_multiple_of_4(input_string)\n",
    "print(\"Result:\", result)\n",
    "\n"
   ]
  },
  {
   "cell_type": "markdown",
   "id": "48d8671f",
   "metadata": {},
   "source": [
    "### Write a Python program to get a string made of the first 2 and the last 2 chars from a given a string. If the string length is less than 2, return instead of the empty string."
   ]
  },
  {
   "cell_type": "code",
   "execution_count": 29,
   "id": "b9907390",
   "metadata": {},
   "outputs": [
    {
     "name": "stdout",
     "output_type": "stream",
     "text": [
      "Enter a string: A\n",
      "Result: Error: String length should be at least 2\n"
     ]
    }
   ],
   "source": [
    "def get_first_and_last_chars(input_string):\n",
    "    if len(input_string) < 2:\n",
    "        return \"Error: String length should be at least 2\"\n",
    "    else:\n",
    "        return input_string[:2] + input_string[-2:]\n",
    "\n",
    "# Example usage:\n",
    "input_string = input(\"Enter a string: \")\n",
    "result = get_first_and_last_chars(input_string)\n",
    "print(\"Result:\", result)\n"
   ]
  },
  {
   "cell_type": "markdown",
   "id": "f0b39584",
   "metadata": {},
   "source": [
    "### Write a Python program to get a single string from two given strings, separated by a space and swap the first two characters of each string."
   ]
  },
  {
   "cell_type": "code",
   "execution_count": 31,
   "id": "e3e383d3",
   "metadata": {},
   "outputs": [
    {
     "name": "stdout",
     "output_type": "stream",
     "text": [
      "Enter the first string: ashwin\n",
      "Enter the second string: krushna\n",
      "Result: krhwin asushna\n"
     ]
    }
   ],
   "source": [
    "def swap_first_two_chars(str1, str2):\n",
    "    new_str1 = str2[:2] + str1[2:]\n",
    "    new_str2 = str1[:2] + str2[2:]\n",
    "    result = new_str1 + ' ' + new_str2\n",
    "    return result\n",
    "\n",
    "# Example usage:\n",
    "input_str1 = input(\"Enter the first string: \")\n",
    "input_str2 = input(\"Enter the second string: \")\n",
    "result = swap_first_two_chars(input_str1, input_str2)\n",
    "print(\"Result:\", result)\n"
   ]
  },
  {
   "cell_type": "markdown",
   "id": "323a62d0",
   "metadata": {},
   "source": [
    "### Write a Python program to get the Fibonacci series of given range."
   ]
  },
  {
   "cell_type": "code",
   "execution_count": 32,
   "id": "057b2df5",
   "metadata": {},
   "outputs": [
    {
     "name": "stdout",
     "output_type": "stream",
     "text": [
      "Enter the upper limit of the Fibonacci series: 50\n",
      "Fibonacci series up to 50 : [0, 1, 1, 2, 3, 5, 8, 13, 21, 34]\n"
     ]
    }
   ],
   "source": [
    "def generate_fibonacci_series(n):\n",
    "    fibonacci_series = []\n",
    "    a, b = 0, 1\n",
    "    while a < n:\n",
    "        fibonacci_series.append(a)\n",
    "        a, b = b, a + b\n",
    "    return fibonacci_series\n",
    "\n",
    "# Example usage:\n",
    "try:\n",
    "    upper_limit = int(input(\"Enter the upper limit of the Fibonacci series: \"))\n",
    "    fibonacci_series = generate_fibonacci_series(upper_limit)\n",
    "    print(\"Fibonacci series up to\", upper_limit, \":\", fibonacci_series)\n",
    "except ValueError:\n",
    "    print(\"Invalid input. Please enter a valid number.\")\n"
   ]
  },
  {
   "cell_type": "markdown",
   "id": "d9013007",
   "metadata": {},
   "source": [
    "### Write a Python program to get the Factorial number of given number"
   ]
  },
  {
   "cell_type": "code",
   "execution_count": 33,
   "id": "da6371ef",
   "metadata": {},
   "outputs": [
    {
     "name": "stdout",
     "output_type": "stream",
     "text": [
      "Enter a number: 10\n",
      "Factorial of 10 is 3628800\n"
     ]
    }
   ],
   "source": [
    "def factorial_iterative(n):\n",
    "    factorial = 1\n",
    "    for i in range(1, n + 1):\n",
    "        factorial *= i\n",
    "    return factorial\n",
    "\n",
    "# Example usage:\n",
    "try:\n",
    "    number = int(input(\"Enter a number: \"))\n",
    "    if number < 0:\n",
    "        print(\"Factorial is not defined for negative numbers.\")\n",
    "    else:\n",
    "        result = factorial_iterative(number)\n",
    "        print(\"Factorial of\", number, \"is\", result)\n",
    "except ValueError:\n",
    "    print(\"Invalid input. Please enter a valid number.\")\n"
   ]
  },
  {
   "cell_type": "markdown",
   "id": "81819365",
   "metadata": {},
   "source": [
    "### Write a Python program to check if a number is positive, negative or zero"
   ]
  },
  {
   "cell_type": "code",
   "execution_count": 34,
   "id": "fc38fb6e",
   "metadata": {},
   "outputs": [
    {
     "name": "stdout",
     "output_type": "stream",
     "text": [
      "Enter a number: 5\n",
      "The number is positive.\n"
     ]
    }
   ],
   "source": [
    "try:\n",
    "    number = float(input(\"Enter a number: \"))  # Convert input to float to handle decimal numbers\n",
    "    if number > 0:\n",
    "        print(\"The number is positive.\")\n",
    "    elif number < 0:\n",
    "        print(\"The number is negative.\")\n",
    "    else:\n",
    "        print(\"The number is zero.\")\n",
    "except ValueError:\n",
    "    print(\"Invalid input. Please enter a valid number.\")\n"
   ]
  },
  {
   "cell_type": "markdown",
   "id": "7defed1a",
   "metadata": {},
   "source": [
    "##  How memory is managed in Python?\n"
   ]
  },
  {
   "cell_type": "markdown",
   "id": "c279ad65",
   "metadata": {},
   "source": [
    "Python's memory management system, including automatic garbage collection, makes it convenient for developers to write code without worrying too much about low-level memory details. However, it's still important to be aware of memory usage, especially in large-scale applications, to optimize performance and prevent memory leaks.\n",
    "\n",
    "\n",
    "\n",
    "\n"
   ]
  },
  {
   "cell_type": "code",
   "execution_count": null,
   "id": "0b30663f",
   "metadata": {},
   "outputs": [],
   "source": []
  }
 ],
 "metadata": {
  "kernelspec": {
   "display_name": "Python 3 (ipykernel)",
   "language": "python",
   "name": "python3"
  },
  "language_info": {
   "codemirror_mode": {
    "name": "ipython",
    "version": 3
   },
   "file_extension": ".py",
   "mimetype": "text/x-python",
   "name": "python",
   "nbconvert_exporter": "python",
   "pygments_lexer": "ipython3",
   "version": "3.11.4"
  }
 },
 "nbformat": 4,
 "nbformat_minor": 5
}
